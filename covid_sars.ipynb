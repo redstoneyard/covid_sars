{
  "nbformat": 4,
  "nbformat_minor": 0,
  "metadata": {
    "colab": {
      "name": "covid_sars.ipynb",
      "provenance": [],
      "collapsed_sections": [],
      "authorship_tag": "ABX9TyNFEd9XfXAQNSoqbVJTyeiE",
      "include_colab_link": true
    },
    "kernelspec": {
      "name": "python3",
      "display_name": "Python 3"
    }
  },
  "cells": [
    {
      "cell_type": "markdown",
      "metadata": {
        "id": "view-in-github",
        "colab_type": "text"
      },
      "source": [
        "<a href=\"https://colab.research.google.com/github/redstoneyard/covid_sars/blob/main/covid_sars.ipynb\" target=\"_parent\"><img src=\"https://colab.research.google.com/assets/colab-badge.svg\" alt=\"Open In Colab\"/></a>"
      ]
    },
    {
      "cell_type": "code",
      "metadata": {
        "id": "7leOGNO7KZwr",
        "colab": {
          "base_uri": "https://localhost:8080/"
        },
        "outputId": "36c3cf7e-ff60-41a2-8800-1d6d1497a589"
      },
      "source": [
        "from google.colab import drive\n",
        "\n",
        "drive.mount('/content/drive')\n"
      ],
      "execution_count": null,
      "outputs": [
        {
          "output_type": "stream",
          "text": [
            "Mounted at /content/drive\n"
          ],
          "name": "stdout"
        }
      ]
    },
    {
      "cell_type": "code",
      "metadata": {
        "id": "ZMHkMM4FzC9y",
        "colab": {
          "base_uri": "https://localhost:8080/"
        },
        "outputId": "e16deaaf-1389-457a-8506-0ba3b239f99d"
      },
      "source": [
        "import numpy as np\n",
        "import string\n",
        "import pandas as pd\n",
        "import tensorflow as tf\n",
        "from pandas import DataFrame\n",
        "\n",
        "up = 'ABCDEFGHIJKLMNOPQRSTUVWXYZ'\n",
        "\n",
        "def onehotify(A):\n",
        "  x=[0.0]*26\n",
        "  x[up.index(A)] = 1.0\n",
        "  return x\n",
        "\n",
        "def onehottensor(seq, leng):\n",
        "  oht = [[0.0]*26]*leng\n",
        "  for i in range(0, len(seq)):\n",
        "    oht[i] = (onehotify(seq[i]))\n",
        "  oht = np.array(oht)\n",
        "  return oht  #output is np array\n",
        "\n",
        "def let_to_int(seq):\n",
        "  int_seq = []\n",
        "  for letter in seq:\n",
        "    int_seq.append(up.index(letter))\n",
        "  int_seq = np.array(int_seq)\n",
        "  return int_seq\n",
        "\n",
        "def get_compiled_model():\n",
        "  model = tf.keras.Sequential([\n",
        "    tf.keras.layers.SimpleRNN(1, input_shape=(None, 26))  #LSTM, SimpleRNN                           \n",
        "  ])\n",
        "\n",
        "  model.compile(optimizer = 'adam',\n",
        "                loss = tf.keras.losses.BinaryCrossentropy(from_logits=True),\n",
        "                metrics=['accuracy'])\n",
        "  \n",
        "  return model\n",
        "\n",
        "\n",
        "df = pd.read_csv('/content/drive/My Drive/covid-sars/input_bcell.csv')\n",
        "test_df = pd.read_csv('/content/drive/My Drive/covid-sars/input_sars.csv')\n",
        "\n",
        "end = df.pop('end_position')\n",
        "start = df.pop('start_position')\n",
        "maxlength1 = (end - start).max() + 1\n",
        "\n",
        "end = test_df.pop('end_position')\n",
        "start = test_df.pop('start_position')\n",
        "maxlength2 = (end - start).max() + 1\n",
        "\n",
        "maxlength = max(maxlength1, maxlength2)\n",
        "\n",
        "\n",
        "target = df.pop('target')  #this belongs to class 'pandas.core.series.Series'\n",
        "target = target.tolist()\n",
        "for i in range(0,len(target)):\n",
        "  target[i] = np.array([target[i]])\n",
        "target = np.array(target)\n",
        "\n",
        "test_target = test_df.pop('target')\n",
        "test_target = test_target.tolist()\n",
        "for i in range(0,len(test_target)):\n",
        "  test_target[i] = np.array(test_target[i])\n",
        "test_target = np.array(test_target)\n",
        "\n",
        "\n",
        "df = df['peptide_seq']     #this belongs to class 'pandas.core.series.Series'\n",
        "df = df.tolist()\n",
        "for i in range(0,len(df)):  \n",
        "  df[i] = onehottensor(df[i], maxlength)\n",
        "df = np.array(df)\n",
        "\n",
        "test_df= test_df['peptide_seq']\n",
        "test_df = test_df.tolist()\n",
        "for i in range(0, len(test_df)):\n",
        "  test_df[i] = onehottensor(test_df[i], maxlength)\n",
        "test_df = np.array(test_df)\n",
        "\n",
        "\n",
        "print(target.shape)\n",
        "print(df.shape)\n",
        "\n",
        "\n",
        "\n",
        "model = get_compiled_model()\n",
        "print(model.summary())\n",
        "\n",
        "model.fit(df, target, batch_size = 1, epochs = 1)\n",
        "\n",
        "\n",
        "model.evaluate(test_df, test_target)\n",
        "\n",
        "\n",
        "\n",
        "\n",
        "\n",
        "\n"
      ],
      "execution_count": null,
      "outputs": [
        {
          "output_type": "stream",
          "text": [
            "(14387, 1)\n",
            "(14387, 393, 26)\n",
            "Model: \"sequential_1\"\n",
            "_________________________________________________________________\n",
            "Layer (type)                 Output Shape              Param #   \n",
            "=================================================================\n",
            "simple_rnn_1 (SimpleRNN)     (None, 1)                 28        \n",
            "=================================================================\n",
            "Total params: 28\n",
            "Trainable params: 28\n",
            "Non-trainable params: 0\n",
            "_________________________________________________________________\n",
            "None\n",
            "14387/14387 [==============================] - 397s 28ms/step - loss: 0.6261 - accuracy: 0.7272\n",
            "17/17 [==============================] - 0s 16ms/step - loss: 0.5830 - accuracy: 0.7308\n"
          ],
          "name": "stdout"
        },
        {
          "output_type": "execute_result",
          "data": {
            "text/plain": [
              "[0.5830320119857788, 0.7307692170143127]"
            ]
          },
          "metadata": {
            "tags": []
          },
          "execution_count": 3
        }
      ]
    },
    {
      "cell_type": "markdown",
      "metadata": {
        "id": "Rt7xYHTxZ26W"
      },
      "source": [
        "df[['peptide_seq']] is a dataframe object\n",
        "\n",
        "df['peptide_seq'] is a series object.\n",
        "\n",
        "DataFrame only supports 2-d\n",
        "\n",
        "np.array only supports rectuangular shape\n",
        "\n",
        "\n",
        "parent_protein_id       object\n",
        "protein_seq             object\n",
        "start_position           int64\n",
        "end_position             int64\n",
        "peptide_seq             object\n",
        "chou_fasman            float64\n",
        "emini                  float64\n",
        "kolaskar_tongaonkar    float64\n",
        "parker                 float64\n",
        "isoelectric_point      float64\n",
        "aromaticity            float64\n",
        "hydrophobicity         float64\n",
        "stability              float64\n",
        "target                   int64\n",
        "dtype: object"
      ]
    },
    {
      "cell_type": "markdown",
      "metadata": {
        "id": "1CTvP3bKZymy"
      },
      "source": [
        ""
      ]
    }
  ]
}